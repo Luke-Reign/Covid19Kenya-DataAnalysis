{
 "cells": [
  {
   "cell_type": "markdown",
   "id": "53cdb13b",
   "metadata": {},
   "source": [
    "# **Importing Python libraries and loading the dataset**"
   ]
  },
  {
   "cell_type": "code",
   "execution_count": 2,
   "id": "c9755c55",
   "metadata": {},
   "outputs": [],
   "source": [
    "#importing the python libraries to be used\n",
    "import pandas as pd\n",
    "import numpy as np\n",
    "import matplotlib.pyplot as plt\n",
    "from matplotlib import style\n",
    "from scipy.integrate import odeint"
   ]
  },
  {
   "cell_type": "code",
   "execution_count": 3,
   "id": "3b8f8d16",
   "metadata": {},
   "outputs": [],
   "source": [
    "#Loading the dataset to our working directory\n",
    "covid = pd.read_excel('covid19KE.xlsx')"
   ]
  },
  {
   "cell_type": "markdown",
   "id": "83ee3aaa",
   "metadata": {},
   "source": [
    "# Data Preparation"
   ]
  },
  {
   "cell_type": "markdown",
   "id": "10e869b2",
   "metadata": {},
   "source": [
    "## Accessing more information of the dataset\n"
   ]
  },
  {
   "cell_type": "code",
   "execution_count": 4,
   "id": "6306d430",
   "metadata": {},
   "outputs": [
    {
     "name": "stdout",
     "output_type": "stream",
     "text": [
      "<class 'pandas.core.frame.DataFrame'>\n",
      "RangeIndex: 302 entries, 0 to 301\n",
      "Data columns (total 54 columns):\n",
      " #   Column            Non-Null Count  Dtype         \n",
      "---  ------            --------------  -----         \n",
      " 0   Date              302 non-null    datetime64[ns]\n",
      " 1    Sample size      302 non-null    int64         \n",
      " 2    Positive cases   302 non-null    int64         \n",
      " 3    Male             290 non-null    float64       \n",
      " 4    Female           289 non-null    float64       \n",
      " 5    Recoveries       292 non-null    float64       \n",
      " 6    Deaths           281 non-null    float64       \n",
      " 7   Nairobi           284 non-null    float64       \n",
      " 8   Mombasa           262 non-null    float64       \n",
      " 9   Vihiga            60 non-null     float64       \n",
      " 10  Kiambu            227 non-null    float64       \n",
      " 11  Kisii             115 non-null    float64       \n",
      " 12  Bungoma           88 non-null     float64       \n",
      " 13  Nyamira           62 non-null     float64       \n",
      " 14  Kakamega          110 non-null    float64       \n",
      " 15  Kisumu            171 non-null    float64       \n",
      " 16  Busia             187 non-null    float64       \n",
      " 17  Kirinyaga         77 non-null     float64       \n",
      " 18  Murang'a          142 non-null    float64       \n",
      " 19  Bomet             68 non-null     float64       \n",
      " 20  Migori            94 non-null     float64       \n",
      " 21  Trans-Nzoia       91 non-null     float64       \n",
      " 22  Siaya             95 non-null     float64       \n",
      " 23  Uasin Gishu       184 non-null    float64       \n",
      " 24  Kericho           108 non-null    float64       \n",
      " 25  Homa Bay          75 non-null     float64       \n",
      " 26  Nyeri             123 non-null    float64       \n",
      " 27  Nandi             88 non-null     float64       \n",
      " 28  Nakuru            193 non-null    float64       \n",
      " 29  Machakos          201 non-null    float64       \n",
      " 30  Embu              105 non-null    float64       \n",
      " 31  Meru              139 non-null    float64       \n",
      " 32  Nyandarua         74 non-null     float64       \n",
      " 33  Tharaka-Nithi     58 non-null     float64       \n",
      " 34  Elgeyo-Marakwet   43 non-null     float64       \n",
      " 35  Makueni           105 non-null    float64       \n",
      " 36  Kilifi            171 non-null    float64       \n",
      " 37  Kwale             101 non-null    float64       \n",
      " 38  West Pokot        32 non-null     float64       \n",
      " 39  Narok             95 non-null     float64       \n",
      " 40  Baringo           45 non-null     float64       \n",
      " 41  Laikipia          115 non-null    float64       \n",
      " 42  Kajiado           220 non-null    float64       \n",
      " 43  Kitui             98 non-null     float64       \n",
      " 44  Mandera           29 non-null     float64       \n",
      " 45  Lamu              60 non-null     float64       \n",
      " 46  Taitaâ€“Taveta    106 non-null    float64       \n",
      " 47  Garissa           117 non-null    float64       \n",
      " 48  Samburu           42 non-null     float64       \n",
      " 49  Wajir             39 non-null     float64       \n",
      " 50  Turkana           96 non-null     float64       \n",
      " 51  Isiolo            71 non-null     float64       \n",
      " 52  Tana River        32 non-null     float64       \n",
      " 53  Marsabit          42 non-null     float64       \n",
      "dtypes: datetime64[ns](1), float64(51), int64(2)\n",
      "memory usage: 127.5 KB\n"
     ]
    },
    {
     "data": {
      "text/plain": [
       "Index(['Date', ' Sample size ', ' Positive cases ', ' Male ', ' Female ',\n",
       "       ' Recoveries ', ' Deaths ', 'Nairobi', 'Mombasa', 'Vihiga', 'Kiambu',\n",
       "       'Kisii', 'Bungoma', 'Nyamira', 'Kakamega', 'Kisumu', 'Busia',\n",
       "       'Kirinyaga', 'Murang'a', 'Bomet', 'Migori', 'Trans-Nzoia', 'Siaya',\n",
       "       'Uasin Gishu', 'Kericho', 'Homa Bay', 'Nyeri', 'Nandi', 'Nakuru',\n",
       "       'Machakos', 'Embu', 'Meru', 'Nyandarua', 'Tharaka-Nithi',\n",
       "       'Elgeyo-Marakwet', 'Makueni', 'Kilifi', 'Kwale', 'West Pokot', 'Narok',\n",
       "       'Baringo', 'Laikipia', 'Kajiado', 'Kitui', 'Mandera', 'Lamu',\n",
       "       'Taitaâ€“Taveta', 'Garissa', 'Samburu', 'Wajir', 'Turkana', 'Isiolo',\n",
       "       'Tana River', 'Marsabit'],\n",
       "      dtype='object')"
      ]
     },
     "execution_count": 4,
     "metadata": {},
     "output_type": "execute_result"
    }
   ],
   "source": [
    "#Let us get to know more about our dataset by accessing its information\n",
    "covid.info()\n",
    "covid.columns"
   ]
  },
  {
   "cell_type": "markdown",
   "id": "31e6d069",
   "metadata": {},
   "source": [
    "### (i) Accuracy"
   ]
  },
  {
   "cell_type": "code",
   "execution_count": 5,
   "id": "ea729279",
   "metadata": {},
   "outputs": [],
   "source": [
    "# Ensuring the sum of positive cases add up to sample size:\n",
    "\n",
    "covid[' Positive cases '] = covid[' Male '] + covid[' Female ']\n",
    "\n",
    "covid['Deaths'] = covid[' Deaths '].replace('-', 0)"
   ]
  },
  {
   "cell_type": "markdown",
   "id": "af4518f5",
   "metadata": {},
   "source": [
    "### (ii) Missing data/ Completeness"
   ]
  },
  {
   "cell_type": "code",
   "execution_count": 6,
   "id": "af04aa57",
   "metadata": {},
   "outputs": [
    {
     "data": {
      "text/plain": [
       "Date                  0\n",
       " Sample size          0\n",
       " Positive cases      13\n",
       " Male                12\n",
       " Female              13\n",
       " Recoveries          10\n",
       " Deaths              21\n",
       "Nairobi              18\n",
       "Mombasa              40\n",
       "Vihiga              242\n",
       "Kiambu               75\n",
       "Kisii               187\n",
       "Bungoma             214\n",
       "Nyamira             240\n",
       "Kakamega            192\n",
       "Kisumu              131\n",
       "Busia               115\n",
       "Kirinyaga           225\n",
       "Murang'a            160\n",
       "Bomet               234\n",
       "Migori              208\n",
       "Trans-Nzoia         211\n",
       "Siaya               207\n",
       "Uasin Gishu         118\n",
       "Kericho             194\n",
       "Homa Bay            227\n",
       "Nyeri               179\n",
       "Nandi               214\n",
       "Nakuru              109\n",
       "Machakos            101\n",
       "Embu                197\n",
       "Meru                163\n",
       "Nyandarua           228\n",
       "Tharaka-Nithi       244\n",
       "Elgeyo-Marakwet     259\n",
       "Makueni             197\n",
       "Kilifi              131\n",
       "Kwale               201\n",
       "West Pokot          270\n",
       "Narok               207\n",
       "Baringo             257\n",
       "Laikipia            187\n",
       "Kajiado              82\n",
       "Kitui               204\n",
       "Mandera             273\n",
       "Lamu                242\n",
       "Taitaâ€“Taveta      196\n",
       "Garissa             185\n",
       "Samburu             260\n",
       "Wajir               263\n",
       "Turkana             206\n",
       "Isiolo              231\n",
       "Tana River          270\n",
       "Marsabit            260\n",
       "Deaths               21\n",
       "dtype: int64"
      ]
     },
     "execution_count": 6,
     "metadata": {},
     "output_type": "execute_result"
    }
   ],
   "source": [
    "#We will now check how many missing values we have in each column\n",
    "covid.isnull().sum()"
   ]
  },
  {
   "cell_type": "code",
   "execution_count": 7,
   "id": "aa3c7f2b",
   "metadata": {},
   "outputs": [
    {
     "data": {
      "text/plain": [
       "(302, 55)"
      ]
     },
     "execution_count": 7,
     "metadata": {},
     "output_type": "execute_result"
    }
   ],
   "source": [
    "# Dropping rows with entire missing values\n",
    "covid.shape"
   ]
  },
  {
   "cell_type": "code",
   "execution_count": 8,
   "id": "17dcb835",
   "metadata": {},
   "outputs": [],
   "source": [
    "covid = covid[covid[' Sample size '].notna()]"
   ]
  },
  {
   "cell_type": "code",
   "execution_count": 9,
   "id": "6f69d87c",
   "metadata": {},
   "outputs": [],
   "source": [
    "# Replacing the missing values with zero\n",
    "covid = covid.fillna(0)"
   ]
  },
  {
   "cell_type": "code",
   "execution_count": 10,
   "id": "73ba7858",
   "metadata": {},
   "outputs": [
    {
     "data": {
      "text/plain": [
       "0"
      ]
     },
     "execution_count": 10,
     "metadata": {},
     "output_type": "execute_result"
    }
   ],
   "source": [
    "# Veryfying that there are no missing values\n",
    "covid.isnull().sum().sum()"
   ]
  },
  {
   "cell_type": "code",
   "execution_count": 11,
   "id": "9f296a1c",
   "metadata": {},
   "outputs": [
    {
     "data": {
      "text/plain": [
       "(302, 55)"
      ]
     },
     "execution_count": 11,
     "metadata": {},
     "output_type": "execute_result"
    }
   ],
   "source": [
    "# Checking the shape of the new dataframe\n",
    "covid.shape"
   ]
  },
  {
   "cell_type": "markdown",
   "id": "7fdcb45d",
   "metadata": {},
   "source": [
    "### (iii) Duplicates / Consitency"
   ]
  },
  {
   "cell_type": "code",
   "execution_count": 12,
   "id": "9911d465",
   "metadata": {},
   "outputs": [
    {
     "data": {
      "text/plain": [
       "0"
      ]
     },
     "execution_count": 12,
     "metadata": {},
     "output_type": "execute_result"
    }
   ],
   "source": [
    "#We will now identify which obseervations are duplicate\n",
    "covid.duplicated().sum()"
   ]
  },
  {
   "cell_type": "code",
   "execution_count": 13,
   "id": "e20a165a",
   "metadata": {},
   "outputs": [],
   "source": [
    "#Drop duplicate\n",
    "covid = covid.drop_duplicates()"
   ]
  },
  {
   "cell_type": "code",
   "execution_count": 14,
   "id": "1b5414b0",
   "metadata": {},
   "outputs": [
    {
     "data": {
      "text/plain": [
       "Index(['Date', 'Sample_size', 'Positive_cases', 'Male', 'Female', 'Recoveries',\n",
       "       'Deaths', 'Nairobi', 'Mombasa', 'Vihiga', 'Kiambu', 'Kisii', 'Bungoma',\n",
       "       'Nyamira', 'Kakamega', 'Kisumu', 'Busia', 'Kirinyaga', 'Murang'a',\n",
       "       'Bomet', 'Migori', 'Trans-Nzoia', 'Siaya', 'Uasin_Gishu', 'Kericho',\n",
       "       'Homa_Bay', 'Nyeri', 'Nandi', 'Nakuru', 'Machakos', 'Embu', 'Meru',\n",
       "       'Nyandarua', 'Tharaka-Nithi', 'Elgeyo-Marakwet', 'Makueni', 'Kilifi',\n",
       "       'Kwale', 'West_Pokot', 'Narok', 'Baringo', 'Laikipia', 'Kajiado',\n",
       "       'Kitui', 'Mandera', 'Lamu', 'Taitaâ€“Taveta', 'Garissa', 'Samburu',\n",
       "       'Wajir', 'Turkana', 'Isiolo', 'Tana_River', 'Marsabit', 'Deaths'],\n",
       "      dtype='object')"
      ]
     },
     "execution_count": 14,
     "metadata": {},
     "output_type": "execute_result"
    }
   ],
   "source": [
    "covid.columns = covid.columns.str.strip().str.replace(' ','_')\n",
    "covid.columns"
   ]
  },
  {
   "cell_type": "markdown",
   "id": "8e3dfc28",
   "metadata": {},
   "source": [
    "##### Converting the columns name to lowercase"
   ]
  },
  {
   "cell_type": "code",
   "execution_count": 15,
   "id": "a426c11f",
   "metadata": {},
   "outputs": [
    {
     "data": {
      "text/plain": [
       "Index(['date', 'sample_size', 'positive_cases', 'male', 'female', 'recoveries',\n",
       "       'deaths', 'nairobi', 'mombasa', 'vihiga', 'kiambu', 'kisii', 'bungoma',\n",
       "       'nyamira', 'kakamega', 'kisumu', 'busia', 'kirinyaga', 'murang'a',\n",
       "       'bomet', 'migori', 'trans-nzoia', 'siaya', 'uasin_gishu', 'kericho',\n",
       "       'homa_bay', 'nyeri', 'nandi', 'nakuru', 'machakos', 'embu', 'meru',\n",
       "       'nyandarua', 'tharaka-nithi', 'elgeyo-marakwet', 'makueni', 'kilifi',\n",
       "       'kwale', 'west_pokot', 'narok', 'baringo', 'laikipia', 'kajiado',\n",
       "       'kitui', 'mandera', 'lamu', 'taitaâ€“taveta', 'garissa', 'samburu',\n",
       "       'wajir', 'turkana', 'isiolo', 'tana_river', 'marsabit', 'deaths'],\n",
       "      dtype='object')"
      ]
     },
     "execution_count": 15,
     "metadata": {},
     "output_type": "execute_result"
    }
   ],
   "source": [
    "covid.columns=map(str.lower,covid.columns)\n",
    "covid.columns"
   ]
  },
  {
   "cell_type": "markdown",
   "id": "7e67eec7",
   "metadata": {},
   "source": [
    "#####  Extracting months and years from the respective dates."
   ]
  },
  {
   "cell_type": "code",
   "execution_count": 16,
   "id": "26dd9b88",
   "metadata": {},
   "outputs": [],
   "source": [
    "months = {3 : 'March', 4: 'April', 5 : 'May', 6: 'June', 7 : 'July', 8: 'August', 9: 'September',\n",
    "      10: 'October', 11 : 'November', 12: 'December', 1: 'January', 2: 'February'} \n",
    "\n",
    "covid['month'] = pd.to_datetime(covid['date']).dt.month.map(months)\n",
    "\n",
    "covid['year'] = pd.to_datetime(covid['date']).dt.year.map({2020 : 2020, 2021: 2021})"
   ]
  },
  {
   "cell_type": "code",
   "execution_count": 17,
   "id": "96f4d95c",
   "metadata": {},
   "outputs": [
    {
     "data": {
      "text/plain": [
       "deaths    float64\n",
       "deaths    float64\n",
       "dtype: object"
      ]
     },
     "execution_count": 17,
     "metadata": {},
     "output_type": "execute_result"
    }
   ],
   "source": [
    "# Ensuring all data in the deaths column is a number and converting from string to float values\n",
    "\n",
    "covid['deaths'] = covid['deaths'].replace('-', 0).astype(float)\n",
    "\n",
    "covid['deaths'].dtypes"
   ]
  },
  {
   "cell_type": "markdown",
   "id": "06ebb4df",
   "metadata": {},
   "source": [
    "## Exporting the cleaned CSV file."
   ]
  },
  {
   "cell_type": "code",
   "execution_count": 18,
   "id": "ddf49fb5",
   "metadata": {},
   "outputs": [],
   "source": [
    "# Converting the cleaned dataset to a csv file\n",
    "covid.to_csv('covid.csv')"
   ]
  },
  {
   "cell_type": "markdown",
   "id": "b6ced0c3",
   "metadata": {},
   "source": [
    "## **ANALYSIS**"
   ]
  },
  {
   "cell_type": "markdown",
   "id": "7dd81cc3",
   "metadata": {},
   "source": [
    "### **2.DATA VISUALIZATION**"
   ]
  },
  {
   "cell_type": "code",
   "execution_count": 19,
   "id": "191d52ff",
   "metadata": {},
   "outputs": [
    {
     "data": {
      "image/png": "[encoded data removed]",
      "text/plain": [
       "<Figure size 432x288 with 1 Axes>"
      ]
     },
     "metadata": {
      "needs_background": "light"
     },
     "output_type": "display_data"
    }
   ],
   "source": [
    "#Trend lines showing covid cases reported in kenya from March 2020 to Feb 2021\n",
    "\n",
    "fig = plt.figure()\n",
    "covid=pd.read_csv('covid.csv')\n",
    "plt.plot(covid['positive_cases'])\n",
    "plt.xlabel('Days')\n",
    "plt.ylabel('Cases recorded per day')\n",
    "plt.title('Covid cases trends in Kenya')\n",
    "plt.ylim(ymin=0)\n",
    "plt.xlim(xmin=0)\n",
    "fig.savefig('COVID trend in Kenya.png')"
   ]
  },
  {
   "cell_type": "code",
   "execution_count": 20,
   "id": "8f81eedd",
   "metadata": {},
   "outputs": [
    {
     "data": {
      "image/png": "[encoded data removed]",
      "text/plain": [
       "<Figure size 432x288 with 1 Axes>"
      ]
     },
     "metadata": {
      "needs_background": "light"
     },
     "output_type": "display_data"
    }
   ],
   "source": [
    "#Trend line for covid related deaths in kenya\n",
    "fig = plt.figure()\n",
    "plt.plot(covid['deaths'])\n",
    "plt.xlabel('Days')\n",
    "plt.ylabel('Deaths')\n",
    "plt.title('Covid related deaths in Kenya')\n",
    "\n",
    "fig.savefig('covid deaths in Kenya.png')"
   ]
  },
  {
   "cell_type": "code",
   "execution_count": 21,
   "id": "64f3d4ad",
   "metadata": {},
   "outputs": [
    {
     "data": {
      "image/png": "[encoded data removed]",
      "text/plain": [
       "<Figure size 432x288 with 1 Axes>"
      ]
     },
     "metadata": {
      "needs_background": "light"
     },
     "output_type": "display_data"
    }
   ],
   "source": [
    "fig = plt.figure()\n",
    "plt.plot(covid['nairobi'])\n",
    "plt.ylabel('Cases recorded per day in Nairobi')\n",
    "plt.xlabel('Date')\n",
    "plt.title('Covid cases trends in Nairobi')\n",
    "\n",
    "fig.savefig('positive trend in Nairobi.png')"
   ]
  },
  {
   "cell_type": "markdown",
   "id": "a387dc08",
   "metadata": {},
   "source": [
    "##### Plot of Nairobi, Machakos and Kiambu cases over time."
   ]
  },
  {
   "cell_type": "code",
   "execution_count": 22,
   "id": "5dbecb37",
   "metadata": {},
   "outputs": [
    {
     "data": {
      "image/png": "[encoded data removed]",
      "text/plain": [
       "<Figure size 432x288 with 1 Axes>"
      ]
     },
     "metadata": {
      "needs_background": "light"
     },
     "output_type": "display_data"
    }
   ],
   "source": [
    "fig = plt.figure()\n",
    "plt.plot(covid['nairobi'])\n",
    "plt.plot(covid['mombasa'])\n",
    "plt.plot(covid['kiambu'])\n",
    "plt.plot(covid['nakuru'])\n",
    "plt.xlabel('days')\n",
    "plt.ylabel('positive cases')\n",
    "\n",
    "plt.legend(['NRB', 'MSA', 'KBU','NAK'])\n",
    "fig.savefig('Nairobi, Mombasa, Kiambu and Nakuru cases over time.png')"
   ]
  },
  {
   "cell_type": "markdown",
   "id": "1e2d18d2",
   "metadata": {},
   "source": [
    "### Ratio of male to female infections"
   ]
  },
  {
   "cell_type": "code",
   "execution_count": 55,
   "id": "0d1aff88",
   "metadata": {},
   "outputs": [
    {
     "data": {
      "text/plain": [
       "1.7376784350584504"
      ]
     },
     "execution_count": 55,
     "metadata": {},
     "output_type": "execute_result"
    }
   ],
   "source": [
    "m2f = covid['male'].sum() / covid['female'].sum()\n",
    "m2f\n",
    "\n",
    "\n",
    "# result shows that for every male infected, 2 females tested positive."
   ]
  },
  {
   "cell_type": "markdown",
   "id": "61aa7a52",
   "metadata": {},
   "source": [
    "### Recovery to death ratio"
   ]
  },
  {
   "cell_type": "code",
   "execution_count": 24,
   "id": "94ad4c88",
   "metadata": {},
   "outputs": [
    {
     "data": {
      "text/plain": [
       "47.23090481786134"
      ]
     },
     "execution_count": 24,
     "metadata": {},
     "output_type": "execute_result"
    }
   ],
   "source": [
    "r2d = covid['recoveries'].sum() / covid['deaths'].sum()\n",
    "r2d\n",
    "\n",
    "\n",
    "# result shows that for every 47 recoveries made, 1 person loses their life"
   ]
  },
  {
   "cell_type": "markdown",
   "id": "b40170da",
   "metadata": {},
   "source": [
    "### Mortality rate"
   ]
  },
  {
   "cell_type": "code",
   "execution_count": 25,
   "id": "7bcfcb8b",
   "metadata": {},
   "outputs": [
    {
     "data": {
      "text/plain": [
       "1.8260431083502313"
      ]
     },
     "execution_count": 25,
     "metadata": {},
     "output_type": "execute_result"
    }
   ],
   "source": [
    "mortality = (covid['deaths'].sum() / covid['positive_cases'].sum()) * 100\n",
    "mortality\n",
    "\n",
    "\n",
    "# result shows that there's an approximately 2% chance of death for every positive case."
   ]
  },
  {
   "cell_type": "markdown",
   "id": "581de1cc",
   "metadata": {},
   "source": [
    "### Recovery chances in case of infection."
   ]
  },
  {
   "cell_type": "code",
   "execution_count": 48,
   "id": "98ca55f4",
   "metadata": {},
   "outputs": [
    {
     "data": {
      "text/plain": [
       "862.4566824380144"
      ]
     },
     "execution_count": 48,
     "metadata": {},
     "output_type": "execute_result"
    }
   ],
   "source": [
    "recover = (covid['recoveries'].sum() / covid['positive_cases'].sum()) * 100\n",
    "recover\n",
    "# result shows that there's an 86% chance of recover in case you contract it."
   ]
  },
  {
   "cell_type": "markdown",
   "id": "88f03c6c",
   "metadata": {},
   "source": [
    "### Infection rate given a sample size"
   ]
  },
  {
   "cell_type": "code",
   "execution_count": 27,
   "id": "2449fb8d",
   "metadata": {},
   "outputs": [
    {
     "data": {
      "text/plain": [
       "86.64993915437127"
      ]
     },
     "execution_count": 27,
     "metadata": {},
     "output_type": "execute_result"
    }
   ],
   "source": [
    "infected = (covid['positive_cases'].sum() / covid['sample_size'].sum()) * 1000\n",
    "infected\n",
    "\n",
    "# result shows that there's 87 positive people for every 1000 people tested."
   ]
  },
  {
   "cell_type": "markdown",
   "id": "91c0f288",
   "metadata": {},
   "source": [
    "### Data grouped by months and years."
   ]
  },
  {
   "cell_type": "code",
   "execution_count": 28,
   "id": "56337649",
   "metadata": {},
   "outputs": [
    {
     "data": {
      "text/html": [
       "<div>\n",
       "<style scoped>\n",
       "    .dataframe tbody tr th:only-of-type {\n",
       "        vertical-align: middle;\n",
       "    }\n",
       "\n",
       "    .dataframe tbody tr th {\n",
       "        vertical-align: top;\n",
       "    }\n",
       "\n",
       "    .dataframe thead tr th {\n",
       "        text-align: left;\n",
       "    }\n",
       "</style>\n",
       "<table border=\"1\" class=\"dataframe\">\n",
       "  <thead>\n",
       "    <tr>\n",
       "      <th>year</th>\n",
       "      <th colspan=\"10\" halign=\"left\">2020</th>\n",
       "      <th>2021</th>\n",
       "    </tr>\n",
       "    <tr>\n",
       "      <th>month</th>\n",
       "      <th>April</th>\n",
       "      <th>August</th>\n",
       "      <th>December</th>\n",
       "      <th>July</th>\n",
       "      <th>June</th>\n",
       "      <th>March</th>\n",
       "      <th>May</th>\n",
       "      <th>November</th>\n",
       "      <th>October</th>\n",
       "      <th>September</th>\n",
       "      <th>January</th>\n",
       "    </tr>\n",
       "  </thead>\n",
       "  <tbody>\n",
       "    <tr>\n",
       "      <th>deaths</th>\n",
       "      <td>16.0</td>\n",
       "      <td>237.0</td>\n",
       "      <td>201.0</td>\n",
       "      <td>193.0</td>\n",
       "      <td>84.0</td>\n",
       "      <td>1.0</td>\n",
       "      <td>47.0</td>\n",
       "      <td>473.0</td>\n",
       "      <td>285.0</td>\n",
       "      <td>133.0</td>\n",
       "      <td>32.0</td>\n",
       "    </tr>\n",
       "    <tr>\n",
       "      <th>female</th>\n",
       "      <td>134.0</td>\n",
       "      <td>4784.0</td>\n",
       "      <td>4419.0</td>\n",
       "      <td>5190.0</td>\n",
       "      <td>1320.0</td>\n",
       "      <td>26.0</td>\n",
       "      <td>527.0</td>\n",
       "      <td>10706.0</td>\n",
       "      <td>5391.0</td>\n",
       "      <td>1340.0</td>\n",
       "      <td>209.0</td>\n",
       "    </tr>\n",
       "    <tr>\n",
       "      <th>male</th>\n",
       "      <td>203.0</td>\n",
       "      <td>8176.0</td>\n",
       "      <td>7509.0</td>\n",
       "      <td>9080.0</td>\n",
       "      <td>3084.0</td>\n",
       "      <td>33.0</td>\n",
       "      <td>1039.0</td>\n",
       "      <td>16751.0</td>\n",
       "      <td>10253.0</td>\n",
       "      <td>2783.0</td>\n",
       "      <td>250.0</td>\n",
       "    </tr>\n",
       "    <tr>\n",
       "      <th>positive_cases</th>\n",
       "      <td>337.0</td>\n",
       "      <td>12960.0</td>\n",
       "      <td>11928.0</td>\n",
       "      <td>14270.0</td>\n",
       "      <td>4404.0</td>\n",
       "      <td>59.0</td>\n",
       "      <td>1566.0</td>\n",
       "      <td>27457.0</td>\n",
       "      <td>15644.0</td>\n",
       "      <td>4123.0</td>\n",
       "      <td>459.0</td>\n",
       "    </tr>\n",
       "    <tr>\n",
       "      <th>recoveries</th>\n",
       "      <td>141.0</td>\n",
       "      <td>11727.0</td>\n",
       "      <td>23393.0</td>\n",
       "      <td>5963.0</td>\n",
       "      <td>1565.0</td>\n",
       "      <td>3.0</td>\n",
       "      <td>330.0</td>\n",
       "      <td>18381.0</td>\n",
       "      <td>12055.0</td>\n",
       "      <td>5179.0</td>\n",
       "      <td>1650.0</td>\n",
       "    </tr>\n",
       "  </tbody>\n",
       "</table>\n",
       "</div>"
      ],
      "text/plain": [
       "year             2020                                                   \\\n",
       "month           April   August December     July    June March     May   \n",
       "deaths           16.0    237.0    201.0    193.0    84.0   1.0    47.0   \n",
       "female          134.0   4784.0   4419.0   5190.0  1320.0  26.0   527.0   \n",
       "male            203.0   8176.0   7509.0   9080.0  3084.0  33.0  1039.0   \n",
       "positive_cases  337.0  12960.0  11928.0  14270.0  4404.0  59.0  1566.0   \n",
       "recoveries      141.0  11727.0  23393.0   5963.0  1565.0   3.0   330.0   \n",
       "\n",
       "year                                          2021  \n",
       "month          November  October September January  \n",
       "deaths            473.0    285.0     133.0    32.0  \n",
       "female          10706.0   5391.0    1340.0   209.0  \n",
       "male            16751.0  10253.0    2783.0   250.0  \n",
       "positive_cases  27457.0  15644.0    4123.0   459.0  \n",
       "recoveries      18381.0  12055.0    5179.0  1650.0  "
      ]
     },
     "execution_count": 28,
     "metadata": {},
     "output_type": "execute_result"
    }
   ],
   "source": [
    "pd.pivot_table(covid, values=['deaths', 'positive_cases', 'recoveries', 'male', 'female']\n",
    "               ,columns=['year', 'month'], aggfunc='sum')"
   ]
  },
  {
   "cell_type": "code",
   "execution_count": 29,
   "id": "8eb22711",
   "metadata": {},
   "outputs": [
    {
     "data": {
      "text/html": [
       "<div>\n",
       "<style scoped>\n",
       "    .dataframe tbody tr th:only-of-type {\n",
       "        vertical-align: middle;\n",
       "    }\n",
       "\n",
       "    .dataframe tbody tr th {\n",
       "        vertical-align: top;\n",
       "    }\n",
       "\n",
       "    .dataframe thead th {\n",
       "        text-align: right;\n",
       "    }\n",
       "</style>\n",
       "<table border=\"1\" class=\"dataframe\">\n",
       "  <thead>\n",
       "    <tr style=\"text-align: right;\">\n",
       "      <th></th>\n",
       "      <th></th>\n",
       "      <th>positive_cases</th>\n",
       "      <th>male</th>\n",
       "      <th>female</th>\n",
       "      <th>deaths</th>\n",
       "      <th>recoveries</th>\n",
       "    </tr>\n",
       "    <tr>\n",
       "      <th>year</th>\n",
       "      <th>month</th>\n",
       "      <th></th>\n",
       "      <th></th>\n",
       "      <th></th>\n",
       "      <th></th>\n",
       "      <th></th>\n",
       "    </tr>\n",
       "  </thead>\n",
       "  <tbody>\n",
       "    <tr>\n",
       "      <th rowspan=\"10\" valign=\"top\">2020</th>\n",
       "      <th>April</th>\n",
       "      <td>337.0</td>\n",
       "      <td>203.0</td>\n",
       "      <td>134.0</td>\n",
       "      <td>16.0</td>\n",
       "      <td>141.0</td>\n",
       "    </tr>\n",
       "    <tr>\n",
       "      <th>August</th>\n",
       "      <td>12960.0</td>\n",
       "      <td>8176.0</td>\n",
       "      <td>4784.0</td>\n",
       "      <td>237.0</td>\n",
       "      <td>11727.0</td>\n",
       "    </tr>\n",
       "    <tr>\n",
       "      <th>December</th>\n",
       "      <td>11928.0</td>\n",
       "      <td>7509.0</td>\n",
       "      <td>4419.0</td>\n",
       "      <td>201.0</td>\n",
       "      <td>23393.0</td>\n",
       "    </tr>\n",
       "    <tr>\n",
       "      <th>July</th>\n",
       "      <td>14270.0</td>\n",
       "      <td>9080.0</td>\n",
       "      <td>5190.0</td>\n",
       "      <td>193.0</td>\n",
       "      <td>5963.0</td>\n",
       "    </tr>\n",
       "    <tr>\n",
       "      <th>June</th>\n",
       "      <td>4404.0</td>\n",
       "      <td>3084.0</td>\n",
       "      <td>1320.0</td>\n",
       "      <td>84.0</td>\n",
       "      <td>1565.0</td>\n",
       "    </tr>\n",
       "    <tr>\n",
       "      <th>March</th>\n",
       "      <td>59.0</td>\n",
       "      <td>33.0</td>\n",
       "      <td>26.0</td>\n",
       "      <td>1.0</td>\n",
       "      <td>3.0</td>\n",
       "    </tr>\n",
       "    <tr>\n",
       "      <th>May</th>\n",
       "      <td>1566.0</td>\n",
       "      <td>1039.0</td>\n",
       "      <td>527.0</td>\n",
       "      <td>47.0</td>\n",
       "      <td>330.0</td>\n",
       "    </tr>\n",
       "    <tr>\n",
       "      <th>November</th>\n",
       "      <td>27457.0</td>\n",
       "      <td>16751.0</td>\n",
       "      <td>10706.0</td>\n",
       "      <td>473.0</td>\n",
       "      <td>18381.0</td>\n",
       "    </tr>\n",
       "    <tr>\n",
       "      <th>October</th>\n",
       "      <td>15644.0</td>\n",
       "      <td>10253.0</td>\n",
       "      <td>5391.0</td>\n",
       "      <td>285.0</td>\n",
       "      <td>12055.0</td>\n",
       "    </tr>\n",
       "    <tr>\n",
       "      <th>September</th>\n",
       "      <td>4123.0</td>\n",
       "      <td>2783.0</td>\n",
       "      <td>1340.0</td>\n",
       "      <td>133.0</td>\n",
       "      <td>5179.0</td>\n",
       "    </tr>\n",
       "    <tr>\n",
       "      <th>2021</th>\n",
       "      <th>January</th>\n",
       "      <td>459.0</td>\n",
       "      <td>250.0</td>\n",
       "      <td>209.0</td>\n",
       "      <td>32.0</td>\n",
       "      <td>1650.0</td>\n",
       "    </tr>\n",
       "  </tbody>\n",
       "</table>\n",
       "</div>"
      ],
      "text/plain": [
       "                positive_cases     male   female  deaths  recoveries\n",
       "year month                                                          \n",
       "2020 April               337.0    203.0    134.0    16.0       141.0\n",
       "     August            12960.0   8176.0   4784.0   237.0     11727.0\n",
       "     December          11928.0   7509.0   4419.0   201.0     23393.0\n",
       "     July              14270.0   9080.0   5190.0   193.0      5963.0\n",
       "     June               4404.0   3084.0   1320.0    84.0      1565.0\n",
       "     March                59.0     33.0     26.0     1.0         3.0\n",
       "     May                1566.0   1039.0    527.0    47.0       330.0\n",
       "     November          27457.0  16751.0  10706.0   473.0     18381.0\n",
       "     October           15644.0  10253.0   5391.0   285.0     12055.0\n",
       "     September          4123.0   2783.0   1340.0   133.0      5179.0\n",
       "2021 January             459.0    250.0    209.0    32.0      1650.0"
      ]
     },
     "execution_count": 29,
     "metadata": {},
     "output_type": "execute_result"
    }
   ],
   "source": [
    "covid.groupby(['year','month'])[['positive_cases', 'male', 'female', 'deaths', 'recoveries']].sum()"
   ]
  },
  {
   "cell_type": "markdown",
   "id": "695b1853",
   "metadata": {},
   "source": [
    "### Pivot table of important statistics"
   ]
  },
  {
   "cell_type": "code",
   "execution_count": 30,
   "id": "5b5a012c",
   "metadata": {},
   "outputs": [
    {
     "data": {
      "text/html": [
       "<div>\n",
       "<style scoped>\n",
       "    .dataframe tbody tr th:only-of-type {\n",
       "        vertical-align: middle;\n",
       "    }\n",
       "\n",
       "    .dataframe tbody tr th {\n",
       "        vertical-align: top;\n",
       "    }\n",
       "\n",
       "    .dataframe thead tr th {\n",
       "        text-align: left;\n",
       "    }\n",
       "</style>\n",
       "<table border=\"1\" class=\"dataframe\">\n",
       "  <thead>\n",
       "    <tr>\n",
       "      <th>year</th>\n",
       "      <th colspan=\"10\" halign=\"left\">2020</th>\n",
       "      <th>2021</th>\n",
       "    </tr>\n",
       "    <tr>\n",
       "      <th>month</th>\n",
       "      <th>April</th>\n",
       "      <th>August</th>\n",
       "      <th>December</th>\n",
       "      <th>July</th>\n",
       "      <th>June</th>\n",
       "      <th>March</th>\n",
       "      <th>May</th>\n",
       "      <th>November</th>\n",
       "      <th>October</th>\n",
       "      <th>September</th>\n",
       "      <th>January</th>\n",
       "    </tr>\n",
       "  </thead>\n",
       "  <tbody>\n",
       "    <tr>\n",
       "      <th>deaths</th>\n",
       "      <td>16.0</td>\n",
       "      <td>237.0</td>\n",
       "      <td>201.0</td>\n",
       "      <td>193.0</td>\n",
       "      <td>84.0</td>\n",
       "      <td>1.0</td>\n",
       "      <td>47.0</td>\n",
       "      <td>473.0</td>\n",
       "      <td>285.0</td>\n",
       "      <td>133.0</td>\n",
       "      <td>32.0</td>\n",
       "    </tr>\n",
       "    <tr>\n",
       "      <th>female</th>\n",
       "      <td>134.0</td>\n",
       "      <td>4784.0</td>\n",
       "      <td>4419.0</td>\n",
       "      <td>5190.0</td>\n",
       "      <td>1320.0</td>\n",
       "      <td>26.0</td>\n",
       "      <td>527.0</td>\n",
       "      <td>10706.0</td>\n",
       "      <td>5391.0</td>\n",
       "      <td>1340.0</td>\n",
       "      <td>209.0</td>\n",
       "    </tr>\n",
       "    <tr>\n",
       "      <th>male</th>\n",
       "      <td>203.0</td>\n",
       "      <td>8176.0</td>\n",
       "      <td>7509.0</td>\n",
       "      <td>9080.0</td>\n",
       "      <td>3084.0</td>\n",
       "      <td>33.0</td>\n",
       "      <td>1039.0</td>\n",
       "      <td>16751.0</td>\n",
       "      <td>10253.0</td>\n",
       "      <td>2783.0</td>\n",
       "      <td>250.0</td>\n",
       "    </tr>\n",
       "    <tr>\n",
       "      <th>positive_cases</th>\n",
       "      <td>337.0</td>\n",
       "      <td>12960.0</td>\n",
       "      <td>11928.0</td>\n",
       "      <td>14270.0</td>\n",
       "      <td>4404.0</td>\n",
       "      <td>59.0</td>\n",
       "      <td>1566.0</td>\n",
       "      <td>27457.0</td>\n",
       "      <td>15644.0</td>\n",
       "      <td>4123.0</td>\n",
       "      <td>459.0</td>\n",
       "    </tr>\n",
       "    <tr>\n",
       "      <th>recoveries</th>\n",
       "      <td>141.0</td>\n",
       "      <td>11727.0</td>\n",
       "      <td>23393.0</td>\n",
       "      <td>5963.0</td>\n",
       "      <td>1565.0</td>\n",
       "      <td>3.0</td>\n",
       "      <td>330.0</td>\n",
       "      <td>18381.0</td>\n",
       "      <td>12055.0</td>\n",
       "      <td>5179.0</td>\n",
       "      <td>1650.0</td>\n",
       "    </tr>\n",
       "  </tbody>\n",
       "</table>\n",
       "</div>"
      ],
      "text/plain": [
       "year             2020                                                   \\\n",
       "month           April   August December     July    June March     May   \n",
       "deaths           16.0    237.0    201.0    193.0    84.0   1.0    47.0   \n",
       "female          134.0   4784.0   4419.0   5190.0  1320.0  26.0   527.0   \n",
       "male            203.0   8176.0   7509.0   9080.0  3084.0  33.0  1039.0   \n",
       "positive_cases  337.0  12960.0  11928.0  14270.0  4404.0  59.0  1566.0   \n",
       "recoveries      141.0  11727.0  23393.0   5963.0  1565.0   3.0   330.0   \n",
       "\n",
       "year                                          2021  \n",
       "month          November  October September January  \n",
       "deaths            473.0    285.0     133.0    32.0  \n",
       "female          10706.0   5391.0    1340.0   209.0  \n",
       "male            16751.0  10253.0    2783.0   250.0  \n",
       "positive_cases  27457.0  15644.0    4123.0   459.0  \n",
       "recoveries      18381.0  12055.0    5179.0  1650.0  "
      ]
     },
     "execution_count": 30,
     "metadata": {},
     "output_type": "execute_result"
    }
   ],
   "source": [
    "pd.pivot_table(covid, values=['deaths', 'positive_cases', 'recoveries', 'male', 'female']\n",
    "               ,columns=['year', 'month'], aggfunc='sum')\n"
   ]
  },
  {
   "cell_type": "code",
   "execution_count": 31,
   "id": "1f53fcb5",
   "metadata": {},
   "outputs": [
    {
     "data": {
      "text/plain": [
       "8.664993915437126"
      ]
     },
     "execution_count": 31,
     "metadata": {},
     "output_type": "execute_result"
    }
   ],
   "source": [
    "# Confirming overall infection rate at the moment again\n",
    "\n",
    "(covid['positive_cases'].sum() / covid['sample_size'].sum()) * 100\n",
    "\n",
    "\n",
    "# Explanation: The positive percentage rate in Kenya stands at roughly \n",
    "# 9%"
   ]
  },
  {
   "cell_type": "markdown",
   "id": "de904ffa",
   "metadata": {},
   "source": [
    "# **SIR MODEL**"
   ]
  },
  {
   "cell_type": "code",
   "execution_count": 60,
   "id": "cf32544c",
   "metadata": {},
   "outputs": [
    {
     "data": {
      "image/png": "[encoded data removed]",
      "text/plain": [
       "<Figure size 432x288 with 1 Axes>"
      ]
     },
     "metadata": {},
     "output_type": "display_data"
    }
   ],
   "source": [
    "# Total population, N.\n",
    "N = 1000\n",
    "# Initial number of infected and recovered individuals, I0 and R0.\n",
    "I0, R0 = 1, 0\n",
    "# Everyone else, S0, is susceptible to infection initially.\n",
    "S0 = N - I0 - R0\n",
    "# Contact rate, beta, and mean recovery rate, gamma, (in 1/days).\n",
    "beta, gamma = 0.2, 1./10 \n",
    "# A grid of time points (in days)\n",
    "t = np.linspace(0, 160, 160)\n",
    "\n",
    "# The SIR model differential equations.\n",
    "def deriv(y, t, N, beta, gamma):\n",
    "    S, I, R = y\n",
    "    dSdt = -beta * S * I / N\n",
    "    dIdt = beta * S * I / N - gamma * I\n",
    "    dRdt = gamma * I\n",
    "    return dSdt, dIdt, dRdt\n",
    "\n",
    "# Initial conditions vector\n",
    "y0 = S0, I0, R0\n",
    "# Integrate the SIR equations over the time grid, t.\n",
    "ret = odeint(deriv, y0, t, args=(N, beta, gamma))\n",
    "S, I, R = ret.T\n",
    "\n",
    "# Plot the data on three separate curves for S(t), I(t) and R(t)\n",
    "fig = plt.figure(facecolor='w')\n",
    "ax = fig.add_subplot(111, facecolor='#dddddd', axisbelow=True)\n",
    "ax.plot(t, S/1000, 'b', alpha=0.5, lw=2, label='Susceptible')\n",
    "ax.plot(t, I/1000, 'r', alpha=0.5, lw=2, label='Infected')\n",
    "ax.plot(t, R/1000, 'g', alpha=0.5, lw=2, label='Recovered with immunity')\n",
    "ax.set_xlabel('Time /days')\n",
    "ax.set_ylabel('Number (1000s)')\n",
    "ax.set_ylim(0,1.2)\n",
    "ax.yaxis.set_tick_params(length=0)\n",
    "ax.xaxis.set_tick_params(length=0)\n",
    "ax.grid(b=True, which='major', c='w', lw=2, ls='-')\n",
    "legend = ax.legend()\n",
    "legend.get_frame().set_alpha(0.5)\n",
    "for spine in ('top', 'right', 'bottom', 'left'):\n",
    "    ax.spines[spine].set_visible(False)\n",
    "plt.show()"
   ]
  },
  {
   "cell_type": "markdown",
   "id": "ae49c7ca",
   "metadata": {},
   "source": [
    "# **SIR MODEL**"
   ]
  },
  {
   "cell_type": "code",
   "execution_count": 58,
   "id": "a43b24ce",
   "metadata": {},
   "outputs": [],
   "source": [
    "# The SIR model differential equations.\n",
    "def deriv(state, t, N, beta, gamma):\n",
    "    S, I, R = state\n",
    "    # Change in S population over time\n",
    "    dSdt = -beta * S * I / N\n",
    "    # Change in I population over time\n",
    "    dIdt = beta * S * I / N - gamma * I\n",
    "    # Change in R population over time\n",
    "    dRdt = gamma * I\n",
    "    return dSdt, dIdt, dRdt"
   ]
  },
  {
   "cell_type": "code",
   "execution_count": 59,
   "id": "c20eb468",
   "metadata": {},
   "outputs": [
    {
     "name": "stdout",
     "output_type": "stream",
     "text": [
      "R0 is 2.0\n"
     ]
    },
    {
     "data": {
      "text/plain": [
       "<AxesSubplot:xlabel='day'>"
      ]
     },
     "execution_count": 59,
     "metadata": {},
     "output_type": "execute_result"
    },
    {
     "data": {
      "image/png": "[encoded data removed]",
      "text/plain": [
       "<Figure size 432x288 with 1 Axes>"
      ]
     },
     "metadata": {},
     "output_type": "display_data"
    }
   ],
   "source": [
    "effective_contact_rate = 0.5\n",
    "recovery_rate = 1/4\n",
    "\n",
    "print(\"R0 is\", effective_contact_rate / recovery_rate)\n",
    "\n",
    "# What's our start population look like?\n",
    "# Everyone not infected or recovered is susceptible\n",
    "total_pop = 1000\n",
    "recovered = 0\n",
    "infected = 1\n",
    "susceptible = total_pop - infected - recovered\n",
    "\n",
    "# A list of days, 0-160\n",
    "days = range(0, 160)\n",
    "\n",
    "# Use differential equations with our population\n",
    "ret = odeint(deriv,\n",
    "             [susceptible, infected, recovered],\n",
    "             days,\n",
    "             args=(total_pop, effective_contact_rate, recovery_rate))\n",
    "S, I, R = ret.T\n",
    "\n",
    "# Build a dataframe\n",
    "df = pd.DataFrame({\n",
    "    'suseptible': S,\n",
    "    'infected': I,\n",
    "    'recovered': R,\n",
    "    'day': days\n",
    "})\n",
    "\n",
    "plt.style.use('ggplot')\n",
    "df.plot(x='day',\n",
    "        y=['infected', 'suseptible', 'recovered'],\n",
    "        color=['#bb6424', '#aac6ca', '#cc8ac0'],\n",
    "        kind='area',\n",
    "        stacked=True)"
   ]
  },
  {
   "cell_type": "code",
   "execution_count": null,
   "id": "579e1784",
   "metadata": {},
   "outputs": [],
   "source": []
  }
 ],
 "metadata": {
  "kernelspec": {
   "display_name": "Python 3 (ipykernel)",
   "language": "python",
   "name": "python3"
  },
  "language_info": {
   "codemirror_mode": {
    "name": "ipython",
    "version": 3
   },
   "file_extension": ".py",
   "mimetype": "text/x-python",
   "name": "python",
   "nbconvert_exporter": "python",
   "pygments_lexer": "ipython3",
   "version": "3.9.7"
  }
 },
 "nbformat": 4,
 "nbformat_minor": 5
}
